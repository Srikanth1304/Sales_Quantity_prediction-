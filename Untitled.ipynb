{
 "cells": [
  {
   "cell_type": "code",
   "execution_count": 1,
   "id": "56f67abf",
   "metadata": {},
   "outputs": [
    {
     "name": "stdout",
     "output_type": "stream",
     "text": [
      "C:\\Users\\srikanth\\anaconda3\n",
      "C:\\Users\\srikanth\\anaconda3\\lib\\site-packages\n"
     ]
    }
   ],
   "source": [
    "import site\n",
    "\n",
    "# Get the site packages directory\n",
    "site_packages_dir = site.getsitepackages()\n",
    "\n",
    "# Print the locations of installed packages\n",
    "for package_dir in site_packages_dir:\n",
    "    print(package_dir)"
   ]
  },
  {
   "cell_type": "code",
   "execution_count": null,
   "id": "3e9b3398",
   "metadata": {},
   "outputs": [],
   "source": []
  }
 ],
 "metadata": {
  "kernelspec": {
   "display_name": "Python 3 (ipykernel)",
   "language": "python",
   "name": "python3"
  },
  "language_info": {
   "codemirror_mode": {
    "name": "ipython",
    "version": 3
   },
   "file_extension": ".py",
   "mimetype": "text/x-python",
   "name": "python",
   "nbconvert_exporter": "python",
   "pygments_lexer": "ipython3",
   "version": "3.9.13"
  }
 },
 "nbformat": 4,
 "nbformat_minor": 5
}
